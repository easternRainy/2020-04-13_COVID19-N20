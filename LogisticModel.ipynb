{
 "cells": [
  {
   "cell_type": "markdown",
   "metadata": {},
   "source": [
    "# COVID-19 Data Analysis"
   ]
  },
  {
   "cell_type": "code",
   "execution_count": 1,
   "metadata": {},
   "outputs": [],
   "source": [
    "from utils import *\n",
    "from utils.paths import *\n",
    "import utils.paths as p\n",
    "from utils.plot import *\n",
    "from utils.logistic_curve import *"
   ]
  },
  {
   "cell_type": "code",
   "execution_count": 2,
   "metadata": {},
   "outputs": [],
   "source": [
    "create_paths(\"DateWorld\")\n",
    "X_FIELD = \"tagged_day\"\n",
    "Y_FIELD = \"confirmed\""
   ]
  },
  {
   "cell_type": "markdown",
   "metadata": {},
   "source": [
    "## Baseline Model: Logistic Regression"
   ]
  },
  {
   "cell_type": "code",
   "execution_count": 9,
   "metadata": {},
   "outputs": [
    {
     "name": "stderr",
     "output_type": "stream",
     "text": [
      "/Users/zhousicheng/Dropbox/Document/2019/20190821-USF/Term 2/CS640_Bioinformatics/COVID19-N20/utils/logistic_curve.py:20: RuntimeWarning: overflow encountered in exp\n",
      "  return c/(1 + np.exp(-(x-b)/a))\n",
      "/Users/zhousicheng/Projects/anaconda3/lib/python3.7/site-packages/scipy/optimize/minpack.py:808: OptimizeWarning: Covariance of the parameters could not be estimated\n",
      "  category=OptimizeWarning)\n"
     ]
    },
    {
     "name": "stdout",
     "output_type": "stream",
     "text": [
      "0,0.3579632187635432,-2.6721494557275274,3122.2575754475274\n",
      "DateWorld/2020-05-08/Analysis/LogisticRegression/China.jpg\n"
     ]
    },
    {
     "data": {
      "image/png": "[encoded data removed]",
      "text/plain": [
       "<Figure size 432x288 with 1 Axes>"
      ]
     },
     "metadata": {
      "needs_background": "light"
     },
     "output_type": "display_data"
    }
   ],
   "source": [
    "country = \"China\"\n",
    "X_FIELD = \"tagged_day\"\n",
    "Y_FIELD = \"deaths\"\n",
    "# test_size, percentage of test size\n",
    "# diff, train_error - test_error\n",
    "# train_error\n",
    "# test_error\n",
    "# a, b,c parameters of logistic curve\n",
    "test_size,diff,sol,train_error,test_error,a,b,c = plot_logistic(country, p.LR, X_FIELD, Y_FIELD)"
   ]
  },
  {
   "cell_type": "code",
   "execution_count": null,
   "metadata": {},
   "outputs": [],
   "source": []
  }
 ],
 "metadata": {
  "kernelspec": {
   "display_name": "Python 3",
   "language": "python",
   "name": "python3"
  },
  "language_info": {
   "codemirror_mode": {
    "name": "ipython",
    "version": 3
   },
   "file_extension": ".py",
   "mimetype": "text/x-python",
   "name": "python",
   "nbconvert_exporter": "python",
   "pygments_lexer": "ipython3",
   "version": "3.7.6"
  }
 },
 "nbformat": 4,
 "nbformat_minor": 4
}
